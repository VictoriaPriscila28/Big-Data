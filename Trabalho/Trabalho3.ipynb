{
 "cells": [
  {
   "cell_type": "code",
   "id": "initial_id",
   "metadata": {
    "collapsed": true,
    "ExecuteTime": {
     "end_time": "2024-05-06T12:24:02.359198Z",
     "start_time": "2024-05-06T12:24:00.459385Z"
    }
   },
   "source": [
    "import pandas as pd\n",
    "\n",
    "url = \"http://dados.recife.pe.gov.br/dataset/e2bd8f0b-1d62-4323-8159-8ebd6ed9eb4a/resource/77c885c4-76ca-45eb-9209-06c5d217122d/download/licenciamento_urbanistico.csv\"\n",
    "\n",
    "data = pd.read_csv(url, sep=';')"
   ],
   "outputs": [],
   "execution_count": 8
  },
  {
   "metadata": {
    "ExecuteTime": {
     "end_time": "2024-05-06T12:34:22.714956Z",
     "start_time": "2024-05-06T12:34:22.591637Z"
    }
   },
   "cell_type": "code",
   "source": [
    "# Contar a ocorrência de cada bairro e ordenar em ordem decrescente\n",
    "contagem_bairros = data['bairro'].value_counts()\n",
    "\n",
    "# Selecionar os 10 bairros com mais ocorrências\n",
    "top_10_bairros = contagem_bairros.head(10)\n",
    "\n",
    "# Exibir os 10 bairros com mais ocorrências\n",
    "print(\"Top 10 bairros com mais ocorrências:\")\n",
    "print(top_10_bairros)\n",
    "\n"
   ],
   "id": "8b0459e4bc37b34f",
   "outputs": [
    {
     "name": "stdout",
     "output_type": "stream",
     "text": [
      "Top 10 bairros com mais ocorrências:\n",
      "bairro\n",
      "BOA VIAGEM      11216\n",
      "IMBIRIBEIRA      4612\n",
      "PINA             4447\n",
      "BOA VISTA        3550\n",
      "GRACAS           2901\n",
      "SANTO AMARO      2597\n",
      "MADALENA         2294\n",
      "VARZEA           2259\n",
      "IPUTINGA         1995\n",
      "CASA AMARELA     1841\n",
      "Name: count, dtype: int64\n"
     ]
    }
   ],
   "execution_count": 11
  },
  {
   "metadata": {
    "ExecuteTime": {
     "end_time": "2024-05-06T12:48:21.689675Z",
     "start_time": "2024-05-06T12:48:18.839337Z"
    }
   },
   "cell_type": "code",
   "source": [
    "import pandas as pd\n",
    "\n",
    "url = \"http://dados.recife.pe.gov.br/dataset/e2bd8f0b-1d62-4323-8159-8ebd6ed9eb4a/resource/77c885c4-76ca-45eb-9209-06c5d217122d/download/licenciamento_urbanistico.csv\"\n",
    "\n",
    "data = pd.read_csv(url, sep=';')\n",
    "\n",
    "# Contar a ocorrência de cada categoria de empreendimento e ordenar em ordem decrescente\n",
    "contagem_categorias = data['categoria_empreendimento'].value_counts()\n",
    "\n",
    "# Exibir as categorias de empreendimento com mais ocorrências\n",
    "print(\"Categorias de empreendimento com mais ocorrências:\")\n",
    "print(contagem_categorias)"
   ],
   "id": "1ff941e0c3db2da3",
   "outputs": [
    {
     "name": "stdout",
     "output_type": "stream",
     "text": [
      "Categorias de empreendimento com mais ocorrências:\n",
      "categoria_empreendimento\n",
      "Atividade    52629\n",
      "Obra         22338\n",
      "Name: count, dtype: int64\n"
     ]
    }
   ],
   "execution_count": 5
  }
 ],
 "metadata": {
  "kernelspec": {
   "display_name": "Python 3",
   "language": "python",
   "name": "python3"
  },
  "language_info": {
   "codemirror_mode": {
    "name": "ipython",
    "version": 2
   },
   "file_extension": ".py",
   "mimetype": "text/x-python",
   "name": "python",
   "nbconvert_exporter": "python",
   "pygments_lexer": "ipython2",
   "version": "2.7.6"
  }
 },
 "nbformat": 4,
 "nbformat_minor": 5
}
