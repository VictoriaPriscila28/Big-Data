{
 "cells": [
  {
   "cell_type": "code",
   "id": "initial_id",
   "metadata": {
    "collapsed": true,
    "ExecuteTime": {
     "end_time": "2024-05-06T12:24:02.359198Z",
     "start_time": "2024-05-06T12:24:00.459385Z"
    }
   },
   "source": [
    "import pandas as pd\n",
    "\n",
    "url = \"http://dados.recife.pe.gov.br/dataset/e2bd8f0b-1d62-4323-8159-8ebd6ed9eb4a/resource/77c885c4-76ca-45eb-9209-06c5d217122d/download/licenciamento_urbanistico.csv\"\n",
    "\n",
    "data = pd.read_csv(url, sep=';')"
   ],
   "outputs": [],
   "execution_count": 8
  },
  {
   "metadata": {
    "ExecuteTime": {
     "end_time": "2024-05-06T12:34:22.714956Z",
     "start_time": "2024-05-06T12:34:22.591637Z"
    }
   },
   "cell_type": "code",
   "source": [
    "# Contar a ocorrência de cada bairro e ordenar em ordem decrescente\n",
    "contagem_bairros = data['bairro'].value_counts()\n",
    "\n",
    "# Selecionar os 10 bairros com mais ocorrências\n",
    "top_10_bairros = contagem_bairros.head(10)\n",
    "\n",
    "# Exibir os 10 bairros com mais ocorrências\n",
    "print(\"Top 10 bairros com mais ocorrências:\")\n",
    "print(top_10_bairros)\n",
    "\n"
   ],
   "id": "8b0459e4bc37b34f",
   "outputs": [
    {
     "name": "stdout",
     "output_type": "stream",
     "text": [
      "Top 10 bairros com mais ocorrências:\n",
      "bairro\n",
      "BOA VIAGEM      11216\n",
      "IMBIRIBEIRA      4612\n",
      "PINA             4447\n",
      "BOA VISTA        3550\n",
      "GRACAS           2901\n",
      "SANTO AMARO      2597\n",
      "MADALENA         2294\n",
      "VARZEA           2259\n",
      "IPUTINGA         1995\n",
      "CASA AMARELA     1841\n",
      "Name: count, dtype: int64\n"
     ]
    }
   ],
   "execution_count": 11
  },
  {
   "metadata": {
    "ExecuteTime": {
     "end_time": "2024-05-06T12:48:21.689675Z",
     "start_time": "2024-05-06T12:48:18.839337Z"
    }
   },
   "cell_type": "code",
   "source": [
    "import pandas as pd\n",
    "\n",
    "url = \"http://dados.recife.pe.gov.br/dataset/e2bd8f0b-1d62-4323-8159-8ebd6ed9eb4a/resource/77c885c4-76ca-45eb-9209-06c5d217122d/download/licenciamento_urbanistico.csv\"\n",
    "\n",
    "data = pd.read_csv(url, sep=';')\n",
    "\n",
    "# Contar a ocorrência de cada categoria de empreendimento e ordenar em ordem decrescente\n",
    "contagem_categorias = data['categoria_empreendimento'].value_counts()\n",
    "\n",
    "# Exibir as categorias de empreendimento com mais ocorrências\n",
    "print(\"Categorias de empreendimento com mais ocorrências:\")\n",
    "print(contagem_categorias)"
   ],
   "id": "1ff941e0c3db2da3",
   "outputs": [
    {
     "name": "stdout",
     "output_type": "stream",
     "text": [
      "Categorias de empreendimento com mais ocorrências:\n",
      "categoria_empreendimento\n",
      "Atividade    52629\n",
      "Obra         22338\n",
      "Name: count, dtype: int64\n"
     ]
    }
   ],
   "execution_count": 5
  },
  {
   "metadata": {
    "ExecuteTime": {
     "end_time": "2024-05-13T02:39:08.323318Z",
     "start_time": "2024-05-13T02:39:04.444976Z"
    }
   },
   "cell_type": "code",
   "source": [
    "import pandas as pd\n",
    "\n",
    "url = \"http://dados.recife.pe.gov.br/dataset/e2bd8f0b-1d62-4323-8159-8ebd6ed9eb4a/resource/77c885c4-76ca-45eb-9209-06c5d217122d/download/licenciamento_urbanistico.csv\"\n",
    "\n",
    "data = pd.read_csv(url, sep=';')\n",
    "data.drop_duplicates(inplace=True)\n"
   ],
   "id": "a63e1d4ccb27a610",
   "outputs": [],
   "execution_count": 6
  },
  {
   "metadata": {
    "ExecuteTime": {
     "end_time": "2024-05-13T03:45:35.974492Z",
     "start_time": "2024-05-13T03:45:33.516411Z"
    }
   },
   "cell_type": "code",
   "source": [
    "import pandas as pd\n",
    "\n",
    "url = \"http://dados.recife.pe.gov.br/dataset/e2bd8f0b-1d62-4323-8159-8ebd6ed9eb4a/resource/77c885c4-76ca-45eb-9209-06c5d217122d/download/licenciamento_urbanistico.csv\"\n",
    "\n",
    "# Leia o arquivo CSV especificando os separadores de milhares e decimais\n",
    "data = pd.read_csv(url, sep=';', thousands=',', decimal=',')\n",
    "\n",
    "# Verifique se há valores ausentes na coluna 'valor_taxa' e remova-os, se necessário\n",
    "data.dropna(subset=['valor_taxa'], inplace=True)\n",
    "\n",
    "# Calcule os limites superior e inferior com base na média e no desvio padrão da coluna 'valor_taxa'\n",
    "limite_superior = data['valor_taxa'].mean() + 2 * data['valor_taxa'].std()\n",
    "limite_inferior = data['valor_taxa'].mean() - 2 * data['valor_taxa'].std()\n",
    "\n",
    "# Remova os outliers com base nos limites superior e inferior\n",
    "data = data[(data['valor_taxa'] >= limite_inferior) & (data['valor_taxa'] <= limite_superior)]\n",
    "\n",
    "# Exiba o DataFrame resultante\n",
    "print(data.head())\n",
    "\n",
    "\n"
   ],
   "id": "6d0d54528ec78aa",
   "outputs": [
    {
     "name": "stdout",
     "output_type": "stream",
     "text": [
      "   ﻿areatotalconstruida                       assunto        bairro  \\\n",
      "33                  NaN                  OBRA DE ARTE      MADALENA   \n",
      "44               299,91  APROVACAO DE PROJETO INICIAL        GRACAS   \n",
      "53                  NaN                  OBRA DE ARTE      MADALENA   \n",
      "56                  NaN                  OBRA DE ARTE  CASA AMARELA   \n",
      "60                  NaN                  OBRA DE ARTE    BOA VIAGEM   \n",
      "\n",
      "   categoria_empreendimento          cnpj data_conclusao data_emissao_licenca  \\\n",
      "33                     Obra  6.973874e+12     2017-09-19                  NaN   \n",
      "44                     Obra           NaN     2020-06-26                  NaN   \n",
      "53                     Obra           NaN     2017-11-27                  NaN   \n",
      "56                     Obra           NaN     2017-11-17                  NaN   \n",
      "60                     Obra           NaN     2017-11-21                  NaN   \n",
      "\n",
      "   data_entrada data_pagamento data_validade_licenca  ...  \\\n",
      "33   2017-08-30     2017-09-05                   NaN  ...   \n",
      "44   2017-07-06     2017-07-14                   NaN  ...   \n",
      "53   2017-11-14     2017-11-20                   NaN  ...   \n",
      "56   2017-10-27     2017-10-30                   NaN  ...   \n",
      "60   2017-11-07     2017-11-09                   NaN  ...   \n",
      "\n",
      "   processo_automatizado situacao_processo                tipo_mercantil  \\\n",
      "33                   Sim          DEFERIDO                  CONVENCIONAL   \n",
      "44                   Sim        INDEFERIDO  AUTÔNOMO NÍVEL UNIVERSITÁRIO   \n",
      "53                   Sim          DEFERIDO         AUTÔNOMO NÍVEL BÁSICO   \n",
      "56                   Sim          DEFERIDO         AUTÔNOMO NÍVEL BÁSICO   \n",
      "60                   Sim          DEFERIDO         AUTÔNOMO NÍVEL BÁSICO   \n",
      "\n",
      "    tipo_processo tipo_proc_licenciamento                      uso_imovel  \\\n",
      "33            NaN             Urbanístico  SEDE DE EMPRESA(ATIVIDADE FIM)   \n",
      "44            NaN             Urbanístico  SEDE DE EMPRESA(ATIVIDADE FIM)   \n",
      "53            NaN             Urbanístico  SEDE DE EMPRESA(ATIVIDADE FIM)   \n",
      "56            NaN             Urbanístico  SEDE DE EMPRESA(ATIVIDADE FIM)   \n",
      "60            NaN             Urbanístico  SEDE DE EMPRESA(ATIVIDADE FIM)   \n",
      "\n",
      "   valor_taxa valor_pago     latitude     longitude  \n",
      "33    26113.0    26113.0          NaN           NaN  \n",
      "44   127748.0   127748.0  -8.04351171  -34.89774418  \n",
      "53    26113.0    26113.0          NaN           NaN  \n",
      "56    26113.0    26113.0          NaN           NaN  \n",
      "60    26113.0    26113.0          NaN           NaN  \n",
      "\n",
      "[5 rows x 33 columns]\n"
     ]
    }
   ],
   "execution_count": 8
  },
  {
   "metadata": {
    "ExecuteTime": {
     "end_time": "2024-05-13T02:34:39.426944Z",
     "start_time": "2024-05-13T02:34:36.812850Z"
    }
   },
   "cell_type": "code",
   "source": [
    "import pandas as pd\n",
    "\n",
    "# Ler o arquivo CSV\n",
    "url = \"http://dados.recife.pe.gov.br/dataset/e2bd8f0b-1d62-4323-8159-8ebd6ed9eb4a/resource/77c885c4-76ca-45eb-9209-06c5d217122d/download/licenciamento_urbanistico.csv\"\n",
    "data = pd.read_csv(url, sep=';')\n",
    "\n",
    "# Remover caracteres não numéricos e converter para float\n",
    "data['valor_taxa'] = data['valor_taxa'].str.replace(',', '.').astype(float)\n",
    "\n",
    "# Calcular o valor médio\n",
    "valor_medio = data['valor_taxa'].mean()\n",
    "\n",
    "# Calcular a mediana\n",
    "valor_mediana = data['valor_taxa'].median()\n",
    "\n",
    "# Calcular a moda\n",
    "valor_moda = data['valor_taxa'].mode()[0]\n",
    "\n",
    "print(f\"Valor médio da taxa paga: R$ {valor_medio:.2f}\")\n",
    "print(f\"Mediana da taxa paga: R$ {valor_mediana:.2f}\")\n",
    "print(f\"Moda da taxa paga: R$ {valor_moda:.2f}\")"
   ],
   "id": "d0ad47c8dfb68bb2",
   "outputs": [
    {
     "name": "stdout",
     "output_type": "stream",
     "text": [
      "Valor médio da taxa paga: R$ 734.82\n",
      "Mediana da taxa paga: R$ 395.41\n",
      "Moda da taxa paga: R$ 371.08\n"
     ]
    }
   ],
   "execution_count": 2
  },
  {
   "metadata": {
    "ExecuteTime": {
     "end_time": "2024-05-13T02:31:01.585254Z",
     "start_time": "2024-05-13T02:31:00.255090Z"
    }
   },
   "cell_type": "code",
   "source": [
    "# RPA's dos bairros com mais ocorrencia\n",
    "\n",
    "import pandas as pd\n",
    "\n",
    "# Dados de mapeamento de bairros para RPAs\n",
    "bairro_rpa_data = {\n",
    "    'Bairro': ['SANTO AMARO', 'BOA VISTA', 'CASA AMARELA', 'GRAÇAS', 'MADALENA', 'VARZEA','IPUTINGA', 'PINA', 'BOA VIAGEM', 'IMBIRIBEIRA'],\n",
    "    'RPA': ['RPA1', 'RPA1', 'RPA3', 'RPA3', 'RPA4', 'RPA4','RPA4', 'RPA6', 'RPA6', 'RPA6']\n",
    "}\n",
    "\n",
    "# Criar um DataFrame a partir dos dados\n",
    "df_bairro_rpa = pd.DataFrame(bairro_rpa_data)\n",
    "\n",
    "# Exibir a tabela\n",
    "print(df_bairro_rpa)"
   ],
   "id": "909f3c7e407cfb2e",
   "outputs": [
    {
     "name": "stdout",
     "output_type": "stream",
     "text": [
      "         Bairro   RPA\n",
      "0   SANTO AMARO  RPA1\n",
      "1     BOA VISTA  RPA1\n",
      "2  CASA AMARELA  RPA3\n",
      "3        GRAÇAS  RPA3\n",
      "4      MADALENA  RPA4\n",
      "5        VARZEA  RPA4\n",
      "6      IPUTINGA  RPA4\n",
      "7          PINA  RPA6\n",
      "8    BOA VIAGEM  RPA6\n",
      "9   IMBIRIBEIRA  RPA6\n"
     ]
    }
   ],
   "execution_count": 1
  },
  {
   "metadata": {
    "ExecuteTime": {
     "end_time": "2024-05-13T03:51:59.200773Z",
     "start_time": "2024-05-13T03:51:56.727492Z"
    }
   },
   "cell_type": "code",
   "source": [
    "import pandas as pd\n",
    "\n",
    "url = \"http://dados.recife.pe.gov.br/dataset/e2bd8f0b-1d62-4323-8159-8ebd6ed9eb4a/resource/77c885c4-76ca-45eb-9209-06c5d217122d/download/licenciamento_urbanistico.csv\"\n",
    "\n",
    "# Leia o arquivo CSV\n",
    "data = pd.read_csv(url, sep=';', thousands=',', decimal=',')\n",
    "\n",
    "# Contagem de ocorrências para a coluna 'tipo_proc_licenciamento'\n",
    "quantidade_tipo_proc = data['tipo_proc_licenciamento'].value_counts()\n",
    "\n",
    "# Exibição dos resultados\n",
    "print(\"Quantidade de ocorrências para 'tipo_proc_licenciamento':\")\n",
    "print(quantidade_tipo_proc)\n",
    "\n"
   ],
   "id": "9ccfb144093e81d6",
   "outputs": [
    {
     "name": "stdout",
     "output_type": "stream",
     "text": [
      "Quantidade de ocorrências para 'tipo_proc_licenciamento':\n",
      "tipo_proc_licenciamento\n",
      "Urbanístico    74967\n",
      "Name: count, dtype: int64\n"
     ]
    }
   ],
   "execution_count": 10
  },
  {
   "metadata": {
    "ExecuteTime": {
     "end_time": "2024-05-13T03:55:59.076752Z",
     "start_time": "2024-05-13T03:55:56.653940Z"
    }
   },
   "cell_type": "code",
   "source": [
    "import pandas as pd\n",
    "\n",
    "url = \"http://dados.recife.pe.gov.br/dataset/e2bd8f0b-1d62-4323-8159-8ebd6ed9eb4a/resource/77c885c4-76ca-45eb-9209-06c5d217122d/download/licenciamento_urbanistico.csv\"\n",
    "\n",
    "# Leia o arquivo CSV\n",
    "data = pd.read_csv(url, sep=';', thousands=',', decimal=',')\n",
    "\n",
    "# Contagem de ocorrências para a coluna 'assunto'\n",
    "contagem_assuntos = data['assunto'].value_counts()\n",
    "\n",
    "# Exibição dos assuntos mais comuns\n",
    "print(\"Assuntos mais comuns:\")\n",
    "print(contagem_assuntos.head(10))  # Exibe os 10 assuntos mais comuns\n",
    "\n"
   ],
   "id": "a2366f896045418",
   "outputs": [
    {
     "name": "stdout",
     "output_type": "stream",
     "text": [
      "Assuntos mais comuns:\n",
      "assunto\n",
      "ALVARA DE LOCALIZACAO E FUNCIONAMENTO                  43816\n",
      "VIABILIDADE - REDESIM                                   8813\n",
      "APROVACAO DE PROJETO INICIAL                            4293\n",
      "SOLICITAÇÃO REGISTRO DE PROJETO APROVADO                2354\n",
      "APROVACAO DE PROJETO/LEGALIZACAO                        2348\n",
      "ALVARA DE CONSTRUCAO INICIAL                            2345\n",
      "APROVACAO PROJETO/REFORMA                               2102\n",
      "SERVICO SEM REFORMA                                     1498\n",
      "ALVARA DE DEMOLICAO                                     1355\n",
      "VIABILIDADE PARA INSTALAÇÃO DE ATIVIDADE/CONSTRUÇÃO      734\n",
      "Name: count, dtype: int64\n"
     ]
    }
   ],
   "execution_count": 11
  },
  {
   "metadata": {
    "ExecuteTime": {
     "end_time": "2024-05-13T03:59:45.799849Z",
     "start_time": "2024-05-13T03:59:43.396689Z"
    }
   },
   "cell_type": "code",
   "source": [
    "import pandas as pd\n",
    "\n",
    "url = \"http://dados.recife.pe.gov.br/dataset/e2bd8f0b-1d62-4323-8159-8ebd6ed9eb4a/resource/77c885c4-76ca-45eb-9209-06c5d217122d/download/licenciamento_urbanistico.csv\"\n",
    "\n",
    "# Leia o arquivo CSV\n",
    "data = pd.read_csv(url, sep=';', thousands=',', decimal=',')\n",
    "\n",
    "# Contagem de ocorrências para a coluna 'situacao_processo'\n",
    "contagem_situacao_processo = data['situacao_processo'].value_counts()\n",
    "\n",
    "# Exibição das situações de processo mais comuns\n",
    "print(\"Situações de processo mais comuns:\")\n",
    "print(contagem_situacao_processo.head(6))  # Exibe as 10 situações de processo mais comuns\n"
   ],
   "id": "e3f627793a519c5c",
   "outputs": [
    {
     "name": "stdout",
     "output_type": "stream",
     "text": [
      "Situações de processo mais comuns:\n",
      "situacao_processo\n",
      "INDEFERIDO       32965\n",
      "DEFERIDO         28601\n",
      "CANCELADO        11074\n",
      "SOLICITADA        1029\n",
      "EM EXIGÊNCIA       776\n",
      "EM TRAMITAÇÃO      522\n",
      "Name: count, dtype: int64\n"
     ]
    }
   ],
   "execution_count": 13
  },
  {
   "metadata": {},
   "cell_type": "markdown",
   "source": "#### Por que será que a maioria dos processos foram indeferidos?\n",
   "id": "c0915bfced24c817"
  }
 ],
 "metadata": {
  "kernelspec": {
   "display_name": "Python 3",
   "language": "python",
   "name": "python3"
  },
  "language_info": {
   "codemirror_mode": {
    "name": "ipython",
    "version": 2
   },
   "file_extension": ".py",
   "mimetype": "text/x-python",
   "name": "python",
   "nbconvert_exporter": "python",
   "pygments_lexer": "ipython2",
   "version": "2.7.6"
  }
 },
 "nbformat": 4,
 "nbformat_minor": 5
}
