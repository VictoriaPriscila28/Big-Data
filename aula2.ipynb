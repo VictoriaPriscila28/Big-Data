{
 "cells": [
  {
   "cell_type": "code",
   "outputs": [],
   "source": [
    "valor1 = input('Digite um numero inteiro: ')\n",
    "valor2 = input('Digite outro numero inteiro: ')\n"
   ],
   "metadata": {
    "collapsed": false
   },
   "id": "5d40d878c120ec9e",
   "execution_count": null
  },
  {
   "cell_type": "code",
   "outputs": [],
   "source": [
    "print('o valor um é: ', valor1, 'o valor dois é: ', valor2)\n",
    "print(valor1,'é igual a ', valor2,'?',valor1==valor2)\n",
    "print(valor1>valor2)\n",
    "print(valor1<valor2)\n",
    "print(valor1>=valor2)\n",
    "print(valor1<=valor2)"
   ],
   "metadata": {
    "collapsed": false
   },
   "id": "4b61f90dd173a3a0",
   "execution_count": null
  },
  {
   "cell_type": "markdown",
   "source": [
    "listas"
   ],
   "metadata": {
    "collapsed": false
   },
   "id": "7ebf11de9ec43a92"
  },
  {
   "cell_type": "code",
   "outputs": [
    {
     "data": {
      "text/plain": "10"
     },
     "execution_count": 12,
     "metadata": {},
     "output_type": "execute_result"
    }
   ],
   "source": [
    "l = []\n",
    "l = list()#construtor de listas\n",
    "dias = [3,1,10]\n",
    "dias[0]\n",
    "\n"
   ],
   "metadata": {
    "collapsed": false,
    "ExecuteTime": {
     "end_time": "2024-03-04T12:02:38.899560Z",
     "start_time": "2024-03-04T12:02:38.890867Z"
    }
   },
   "id": "a92e8efa4a5fcbfe",
   "execution_count": 12
  },
  {
   "cell_type": "code",
   "outputs": [
    {
     "data": {
      "text/plain": "1"
     },
     "execution_count": 13,
     "metadata": {},
     "output_type": "execute_result"
    }
   ],
   "source": [
    "dias[1]"
   ],
   "metadata": {
    "collapsed": false,
    "ExecuteTime": {
     "end_time": "2024-03-04T12:03:06.425197Z",
     "start_time": "2024-03-04T12:03:06.415939Z"
    }
   },
   "id": "14dae888d7bd778e",
   "execution_count": 13
  },
  {
   "cell_type": "code",
   "outputs": [
    {
     "data": {
      "text/plain": "10"
     },
     "execution_count": 14,
     "metadata": {},
     "output_type": "execute_result"
    }
   ],
   "source": [
    "dias[2]"
   ],
   "metadata": {
    "collapsed": false,
    "ExecuteTime": {
     "end_time": "2024-03-04T12:03:11.199187Z",
     "start_time": "2024-03-04T12:03:11.193590Z"
    }
   },
   "id": "2a23560e387a1f82",
   "execution_count": 14
  },
  {
   "cell_type": "code",
   "outputs": [],
   "source": [
    "z = [3,8,9]\n"
   ],
   "metadata": {
    "collapsed": false,
    "ExecuteTime": {
     "end_time": "2024-03-04T12:04:03.222Z",
     "start_time": "2024-03-04T12:04:03.216216Z"
    }
   },
   "id": "e7b520acbbeadf7c",
   "execution_count": 15
  },
  {
   "cell_type": "code",
   "outputs": [],
   "source": [
    "z[0] = 7"
   ],
   "metadata": {
    "collapsed": false,
    "ExecuteTime": {
     "end_time": "2024-03-04T12:04:07.985996Z",
     "start_time": "2024-03-04T12:04:07.979731Z"
    }
   },
   "id": "a6b2b75202abb9b4",
   "execution_count": 16
  },
  {
   "cell_type": "code",
   "outputs": [
    {
     "data": {
      "text/plain": "[7, 8, 9]"
     },
     "execution_count": 17,
     "metadata": {},
     "output_type": "execute_result"
    }
   ],
   "source": [
    "z # nao precisa colocar tanto print pq o sistema já reconhece"
   ],
   "metadata": {
    "collapsed": false,
    "ExecuteTime": {
     "end_time": "2024-03-04T12:04:12.597589Z",
     "start_time": "2024-03-04T12:04:12.592269Z"
    }
   },
   "id": "507c4edf4732951",
   "execution_count": 17
  },
  {
   "cell_type": "code",
   "outputs": [],
   "source": [
    "a = [81,82,83]"
   ],
   "metadata": {
    "collapsed": false,
    "ExecuteTime": {
     "end_time": "2024-03-04T12:13:22.036923Z",
     "start_time": "2024-03-04T12:13:22.030621Z"
    }
   },
   "id": "67bc6df9fb8f5fc2",
   "execution_count": 18
  },
  {
   "cell_type": "code",
   "outputs": [],
   "source": [
    "b = a[:]\n"
   ],
   "metadata": {
    "collapsed": false,
    "ExecuteTime": {
     "end_time": "2024-03-04T12:13:24.359013Z",
     "start_time": "2024-03-04T12:13:24.354020Z"
    }
   },
   "id": "48f90d412ea32522",
   "execution_count": 19
  },
  {
   "cell_type": "code",
   "outputs": [
    {
     "name": "stdout",
     "output_type": "stream",
     "text": [
      "True\n"
     ]
    }
   ],
   "source": [
    "print(a==b)"
   ],
   "metadata": {
    "collapsed": false,
    "ExecuteTime": {
     "end_time": "2024-03-04T12:13:27.143990Z",
     "start_time": "2024-03-04T12:13:27.139425Z"
    }
   },
   "id": "5ed421d146467ae3",
   "execution_count": 20
  },
  {
   "cell_type": "code",
   "outputs": [
    {
     "name": "stdout",
     "output_type": "stream",
     "text": [
      "False\n"
     ]
    }
   ],
   "source": [
    "print(a is b)"
   ],
   "metadata": {
    "collapsed": false,
    "ExecuteTime": {
     "end_time": "2024-03-04T12:13:30.438258Z",
     "start_time": "2024-03-04T12:13:30.434461Z"
    }
   },
   "id": "c6f676f15e4505b7",
   "execution_count": 21
  },
  {
   "cell_type": "code",
   "outputs": [],
   "source": [
    "b[0] = 5"
   ],
   "metadata": {
    "collapsed": false,
    "ExecuteTime": {
     "end_time": "2024-03-04T12:13:33.735257Z",
     "start_time": "2024-03-04T12:13:33.730120Z"
    }
   },
   "id": "b0d032ca11f60cc6",
   "execution_count": 22
  },
  {
   "cell_type": "code",
   "outputs": [
    {
     "name": "stdout",
     "output_type": "stream",
     "text": [
      "[81, 82, 83]\n"
     ]
    }
   ],
   "source": [
    "print(a)"
   ],
   "metadata": {
    "collapsed": false,
    "ExecuteTime": {
     "end_time": "2024-03-04T12:13:36.676083Z",
     "start_time": "2024-03-04T12:13:36.670128Z"
    }
   },
   "id": "f439740f5ad8bfb1",
   "execution_count": 23
  },
  {
   "cell_type": "code",
   "outputs": [
    {
     "name": "stdout",
     "output_type": "stream",
     "text": [
      "[5, 82, 83]\n"
     ]
    }
   ],
   "source": [
    "print(b)"
   ],
   "metadata": {
    "collapsed": false,
    "ExecuteTime": {
     "end_time": "2024-03-04T12:13:41.229245Z",
     "start_time": "2024-03-04T12:13:41.225920Z"
    }
   },
   "id": "7ee312549bf4ab0d",
   "execution_count": 24
  },
  {
   "cell_type": "code",
   "outputs": [],
   "source": [
    "uma_lista = ['a','b','c','d','e','f']"
   ],
   "metadata": {
    "collapsed": false,
    "ExecuteTime": {
     "end_time": "2024-03-04T12:17:05.522226Z",
     "start_time": "2024-03-04T12:17:05.516210Z"
    }
   },
   "id": "e3e2d79ed178be1d",
   "execution_count": 25
  },
  {
   "cell_type": "code",
   "outputs": [
    {
     "name": "stdout",
     "output_type": "stream",
     "text": [
      "['b', 'c']\n"
     ]
    }
   ],
   "source": [
    "print(uma_lista[1:3])"
   ],
   "metadata": {
    "collapsed": false,
    "ExecuteTime": {
     "end_time": "2024-03-04T12:17:08.827537Z",
     "start_time": "2024-03-04T12:17:08.822685Z"
    }
   },
   "id": "106a21bec3f064b",
   "execution_count": 26
  },
  {
   "cell_type": "code",
   "outputs": [
    {
     "name": "stdout",
     "output_type": "stream",
     "text": [
      "['a', 'b', 'c', 'd']\n"
     ]
    }
   ],
   "source": [
    "print(uma_lista[:4])"
   ],
   "metadata": {
    "collapsed": false,
    "ExecuteTime": {
     "end_time": "2024-03-04T12:17:13.383459Z",
     "start_time": "2024-03-04T12:17:13.379585Z"
    }
   },
   "id": "801d105f78e37579",
   "execution_count": 27
  },
  {
   "cell_type": "code",
   "outputs": [
    {
     "name": "stdout",
     "output_type": "stream",
     "text": [
      "['d', 'e', 'f']\n"
     ]
    }
   ],
   "source": [
    "print(uma_lista[3:])"
   ],
   "metadata": {
    "collapsed": false,
    "ExecuteTime": {
     "end_time": "2024-03-04T12:17:19.652032Z",
     "start_time": "2024-03-04T12:17:19.645627Z"
    }
   },
   "id": "b6e31cf1747ef44c",
   "execution_count": 28
  },
  {
   "cell_type": "code",
   "outputs": [
    {
     "name": "stdout",
     "output_type": "stream",
     "text": [
      "['a', 'b', 'c', 'd', 'e', 'f']\n"
     ]
    }
   ],
   "source": [
    "print(uma_lista[:])"
   ],
   "metadata": {
    "collapsed": false,
    "ExecuteTime": {
     "end_time": "2024-03-04T12:17:22.954517Z",
     "start_time": "2024-03-04T12:17:22.951003Z"
    }
   },
   "id": "a97740674bb8c1e0",
   "execution_count": 29
  },
  {
   "cell_type": "code",
   "outputs": [],
   "source": [
    "a = [1,2,3]"
   ],
   "metadata": {
    "collapsed": false,
    "ExecuteTime": {
     "end_time": "2024-03-04T12:24:35.322232Z",
     "start_time": "2024-03-04T12:24:35.318413Z"
    }
   },
   "id": "cb82c451ef824ed5",
   "execution_count": 30
  },
  {
   "cell_type": "code",
   "outputs": [],
   "source": [
    "b = a[:]"
   ],
   "metadata": {
    "collapsed": false,
    "ExecuteTime": {
     "end_time": "2024-03-04T12:31:35.172421Z",
     "start_time": "2024-03-04T12:31:35.168176Z"
    }
   },
   "id": "8849a0bc97103cc1",
   "execution_count": 37
  },
  {
   "cell_type": "code",
   "outputs": [],
   "source": [
    "b[0]=5"
   ],
   "metadata": {
    "collapsed": false,
    "ExecuteTime": {
     "end_time": "2024-03-04T12:31:19.950902Z",
     "start_time": "2024-03-04T12:31:19.945982Z"
    }
   },
   "id": "70d960b258d54be2",
   "execution_count": 35
  },
  {
   "cell_type": "code",
   "outputs": [
    {
     "name": "stdout",
     "output_type": "stream",
     "text": [
      "3\n"
     ]
    }
   ],
   "source": [
    "print(a[2])"
   ],
   "metadata": {
    "collapsed": false,
    "ExecuteTime": {
     "end_time": "2024-03-04T12:31:28.834368Z",
     "start_time": "2024-03-04T12:31:28.830366Z"
    }
   },
   "id": "10b8c701734b2ea0",
   "execution_count": 36
  },
  {
   "cell_type": "code",
   "outputs": [],
   "source": [
    "minhaLista = [76,92.3,'oi',True,4,76]"
   ],
   "metadata": {
    "collapsed": false,
    "ExecuteTime": {
     "end_time": "2024-03-04T12:49:52.929955Z",
     "start_time": "2024-03-04T12:49:52.926449Z"
    }
   },
   "id": "fb7cd19cf4478244",
   "execution_count": 74
  },
  {
   "cell_type": "code",
   "outputs": [
    {
     "name": "stdout",
     "output_type": "stream",
     "text": [
      "[76, 92.3, 'oi', True, 4, 76, 'pitomba']\n"
     ]
    }
   ],
   "source": [
    "minhaLista = minhaLista + ['pitomba']\n",
    "print(minhaLista)"
   ],
   "metadata": {
    "collapsed": false,
    "ExecuteTime": {
     "end_time": "2024-03-04T12:49:56.975545Z",
     "start_time": "2024-03-04T12:49:56.971491Z"
    }
   },
   "id": "130f3d80b672f83e",
   "execution_count": 75
  },
  {
   "cell_type": "code",
   "outputs": [
    {
     "data": {
      "text/plain": "[76, 92.3, 'Cibele', True, 4, 76, 'pitomba']"
     },
     "execution_count": 76,
     "metadata": {},
     "output_type": "execute_result"
    }
   ],
   "source": [
    "minhaLista[2] = 'Cibele'\n",
    "minhaLista"
   ],
   "metadata": {
    "collapsed": false,
    "ExecuteTime": {
     "end_time": "2024-03-04T12:50:12.086410Z",
     "start_time": "2024-03-04T12:50:12.075882Z"
    }
   },
   "id": "8f2e4f5555a417a1",
   "execution_count": 76
  },
  {
   "cell_type": "code",
   "outputs": [
    {
     "data": {
      "text/plain": "[99, 92.3, 'Cibele', True, 4, 76, 'pitomba']"
     },
     "execution_count": 77,
     "metadata": {},
     "output_type": "execute_result"
    }
   ],
   "source": [
    "minhaLista[0] = 99\n",
    "minhaLista"
   ],
   "metadata": {
    "collapsed": false,
    "ExecuteTime": {
     "end_time": "2024-03-04T12:50:18.117438Z",
     "start_time": "2024-03-04T12:50:18.108040Z"
    }
   },
   "id": "39696120901043c5",
   "execution_count": 77
  },
  {
   "cell_type": "code",
   "outputs": [
    {
     "data": {
      "text/plain": "[99, 92.3, 'Cibele', True, 4, 76, 'pitomba']"
     },
     "execution_count": 78,
     "metadata": {},
     "output_type": "execute_result"
    }
   ],
   "source": [
    "minhaLista[:]\n",
    "    "
   ],
   "metadata": {
    "collapsed": false,
    "ExecuteTime": {
     "end_time": "2024-03-04T12:50:24.502419Z",
     "start_time": "2024-03-04T12:50:24.497175Z"
    }
   },
   "id": "31f2f35fd5a32998",
   "execution_count": 78
  },
  {
   "cell_type": "code",
   "outputs": [],
   "source": [
    "uma_lista = [4,2,8,6,5]"
   ],
   "metadata": {
    "collapsed": false,
    "ExecuteTime": {
     "end_time": "2024-03-04T12:48:26.104980Z",
     "start_time": "2024-03-04T12:48:26.101715Z"
    }
   },
   "id": "157d2276e4c941b5",
   "execution_count": 68
  },
  {
   "cell_type": "code",
   "outputs": [],
   "source": [
    "uma_lista = uma_lista + ['Cibele']"
   ],
   "metadata": {
    "collapsed": false,
    "ExecuteTime": {
     "end_time": "2024-03-04T12:48:28.778024Z",
     "start_time": "2024-03-04T12:48:28.774768Z"
    }
   },
   "id": "d74f73b34e3c8cf0",
   "execution_count": 69
  },
  {
   "cell_type": "code",
   "outputs": [
    {
     "name": "stdout",
     "output_type": "stream",
     "text": [
      "[4, 2, 8, 6, 5, 'Cibele']\n"
     ]
    }
   ],
   "source": [
    "print(uma_lista)"
   ],
   "metadata": {
    "collapsed": false,
    "ExecuteTime": {
     "end_time": "2024-03-04T12:48:32.402246Z",
     "start_time": "2024-03-04T12:48:32.399058Z"
    }
   },
   "id": "80a7b210812d7a13",
   "execution_count": 70
  },
  {
   "cell_type": "markdown",
   "source": [
    "Tuplas"
   ],
   "metadata": {
    "collapsed": false
   },
   "id": "8413a6c17ff0d5d5"
  },
  {
   "cell_type": "code",
   "outputs": [],
   "source": [
    "tupla_numeros = (10,20,30)"
   ],
   "metadata": {
    "collapsed": false,
    "ExecuteTime": {
     "end_time": "2024-03-04T12:53:23.365226Z",
     "start_time": "2024-03-04T12:53:23.359865Z"
    }
   },
   "id": "54a50575b2276b3e",
   "execution_count": 79
  },
  {
   "cell_type": "code",
   "outputs": [
    {
     "data": {
      "text/plain": "(10, 20, 30)"
     },
     "execution_count": 80,
     "metadata": {},
     "output_type": "execute_result"
    }
   ],
   "source": [
    "tupla_numeros"
   ],
   "metadata": {
    "collapsed": false,
    "ExecuteTime": {
     "end_time": "2024-03-04T12:53:26.355564Z",
     "start_time": "2024-03-04T12:53:26.351432Z"
    }
   },
   "id": "e38041fc149e7bd4",
   "execution_count": 80
  },
  {
   "cell_type": "code",
   "outputs": [],
   "source": [
    "tupla_nova = 30,40,50"
   ],
   "metadata": {
    "collapsed": false,
    "ExecuteTime": {
     "end_time": "2024-03-04T12:54:44.458658Z",
     "start_time": "2024-03-04T12:54:44.454165Z"
    }
   },
   "id": "96c63c7a8dffd404",
   "execution_count": 81
  },
  {
   "cell_type": "code",
   "outputs": [
    {
     "data": {
      "text/plain": "(30, 40, 50)"
     },
     "execution_count": 82,
     "metadata": {},
     "output_type": "execute_result"
    }
   ],
   "source": [
    "tupla_nova"
   ],
   "metadata": {
    "collapsed": false,
    "ExecuteTime": {
     "end_time": "2024-03-04T12:54:47.335592Z",
     "start_time": "2024-03-04T12:54:47.331431Z"
    }
   },
   "id": "95179077e93ffdc1",
   "execution_count": 82
  },
  {
   "cell_type": "code",
   "outputs": [],
   "source": [
    "tupla_elemento = 10,"
   ],
   "metadata": {
    "collapsed": false,
    "ExecuteTime": {
     "end_time": "2024-03-04T12:56:06.271587Z",
     "start_time": "2024-03-04T12:56:06.267841Z"
    }
   },
   "id": "f1b4b14d9307e696",
   "execution_count": 83
  },
  {
   "cell_type": "code",
   "outputs": [],
   "source": [],
   "metadata": {
    "collapsed": false
   },
   "id": "37bb4ad552cbdbdb"
  },
  {
   "cell_type": "code",
   "outputs": [
    {
     "data": {
      "text/plain": "(10,)"
     },
     "execution_count": 84,
     "metadata": {},
     "output_type": "execute_result"
    }
   ],
   "source": [
    "tupla_elemento"
   ],
   "metadata": {
    "collapsed": false,
    "ExecuteTime": {
     "end_time": "2024-03-04T12:56:12.201563Z",
     "start_time": "2024-03-04T12:56:12.197680Z"
    }
   },
   "id": "19ae5d5ed43d6617",
   "execution_count": 84
  },
  {
   "cell_type": "code",
   "outputs": [
    {
     "name": "stdout",
     "output_type": "stream",
     "text": [
      "<class 'dict'>\n"
     ]
    }
   ],
   "source": [
    "dicio = {'chave': 'valor'}\n",
    "print(type(dicio))"
   ],
   "metadata": {
    "collapsed": false,
    "ExecuteTime": {
     "end_time": "2024-03-04T13:00:59.759527Z",
     "start_time": "2024-03-04T13:00:59.754950Z"
    }
   },
   "id": "68782c25d0888ab7",
   "execution_count": 85
  },
  {
   "cell_type": "code",
   "outputs": [
    {
     "data": {
      "text/plain": "35"
     },
     "execution_count": 86,
     "metadata": {},
     "output_type": "execute_result"
    }
   ],
   "source": [
    "d = {'laranjas': 15, 'bananas': 35, 'siriguelas': 12}\n",
    "d['bananas']"
   ],
   "metadata": {
    "collapsed": false,
    "ExecuteTime": {
     "end_time": "2024-03-04T13:02:47.147223Z",
     "start_time": "2024-03-04T13:02:47.142895Z"
    }
   },
   "id": "17ac6f3cb80532c7",
   "execution_count": 86
  },
  {
   "cell_type": "code",
   "outputs": [],
   "source": [
    "d['pitomba'] = 20\n"
   ],
   "metadata": {
    "collapsed": false,
    "ExecuteTime": {
     "end_time": "2024-03-04T13:06:40.233651Z",
     "start_time": "2024-03-04T13:06:40.228383Z"
    }
   },
   "id": "7dfb4bfb2657204",
   "execution_count": 88
  },
  {
   "cell_type": "code",
   "outputs": [
    {
     "data": {
      "text/plain": "4"
     },
     "execution_count": 90,
     "metadata": {},
     "output_type": "execute_result"
    }
   ],
   "source": [
    "len(d)"
   ],
   "metadata": {
    "collapsed": false,
    "ExecuteTime": {
     "end_time": "2024-03-04T13:06:51.526177Z",
     "start_time": "2024-03-04T13:06:51.520637Z"
    }
   },
   "id": "94c2f232660db195",
   "execution_count": 90
  },
  {
   "cell_type": "code",
   "outputs": [
    {
     "data": {
      "text/plain": "True"
     },
     "execution_count": 91,
     "metadata": {},
     "output_type": "execute_result"
    }
   ],
   "source": [
    "'pitomba' in d"
   ],
   "metadata": {
    "collapsed": false,
    "ExecuteTime": {
     "end_time": "2024-03-04T13:08:19.386543Z",
     "start_time": "2024-03-04T13:08:19.382734Z"
    }
   },
   "id": "787e20fde87bc917",
   "execution_count": 91
  },
  {
   "cell_type": "code",
   "outputs": [],
   "source": [
    "del d['laranjas']"
   ],
   "metadata": {
    "collapsed": false,
    "ExecuteTime": {
     "end_time": "2024-03-04T13:12:07.460540Z",
     "start_time": "2024-03-04T13:12:07.456862Z"
    }
   },
   "id": "255cf585c5c12164",
   "execution_count": 92
  },
  {
   "cell_type": "code",
   "outputs": [
    {
     "data": {
      "text/plain": "False"
     },
     "execution_count": 93,
     "metadata": {},
     "output_type": "execute_result"
    }
   ],
   "source": [
    "'laranjas' in d"
   ],
   "metadata": {
    "collapsed": false,
    "ExecuteTime": {
     "end_time": "2024-03-04T13:12:10.864362Z",
     "start_time": "2024-03-04T13:12:10.860362Z"
    }
   },
   "id": "1c9a7b94cee12499",
   "execution_count": 93
  },
  {
   "cell_type": "code",
   "outputs": [],
   "source": [
    "frutas = ['pinha','oiti coro', 'jaca','tamarindo']"
   ],
   "metadata": {
    "collapsed": false,
    "ExecuteTime": {
     "end_time": "2024-03-04T13:15:16.169181Z",
     "start_time": "2024-03-04T13:15:16.164853Z"
    }
   },
   "id": "d5a7a6497e308286",
   "execution_count": 94
  },
  {
   "cell_type": "code",
   "outputs": [
    {
     "name": "stdout",
     "output_type": "stream",
     "text": [
      "[1, 2, 3, 4]\n"
     ]
    }
   ],
   "source": [
    "print([1,2] + [3,4])"
   ],
   "metadata": {
    "collapsed": false,
    "ExecuteTime": {
     "end_time": "2024-03-04T13:15:18.496812Z",
     "start_time": "2024-03-04T13:15:18.493773Z"
    }
   },
   "id": "1446662a678e5bc8",
   "execution_count": 95
  },
  {
   "cell_type": "code",
   "outputs": [
    {
     "name": "stdout",
     "output_type": "stream",
     "text": [
      "['pinha', 'oiti coro', 'jaca', 'tamarindo', 6, 7, 8, 9]\n"
     ]
    }
   ],
   "source": [
    "print(frutas + [6,7,8,9])"
   ],
   "metadata": {
    "collapsed": false,
    "ExecuteTime": {
     "end_time": "2024-03-04T13:15:21.504387Z",
     "start_time": "2024-03-04T13:15:21.500239Z"
    }
   },
   "id": "dad032bc934b35bf",
   "execution_count": 96
  },
  {
   "cell_type": "code",
   "outputs": [
    {
     "name": "stdout",
     "output_type": "stream",
     "text": [
      "[0, 0, 0, 0]\n"
     ]
    }
   ],
   "source": [
    "print([0] * 4)"
   ],
   "metadata": {
    "collapsed": false,
    "ExecuteTime": {
     "end_time": "2024-03-04T13:15:24.881895Z",
     "start_time": "2024-03-04T13:15:24.878568Z"
    }
   },
   "id": "ae252ea4cd0b16aa",
   "execution_count": 97
  },
  {
   "cell_type": "code",
   "outputs": [
    {
     "name": "stdout",
     "output_type": "stream",
     "text": [
      "[1, 2, ['oi', 'tchau'], 1, 2, ['oi', 'tchau']]\n"
     ]
    }
   ],
   "source": [
    "print([1,2,['oi','tchau']]*2)"
   ],
   "metadata": {
    "collapsed": false,
    "ExecuteTime": {
     "end_time": "2024-03-04T13:15:27.754803Z",
     "start_time": "2024-03-04T13:15:27.750556Z"
    }
   },
   "id": "9abf0d66920e1492",
   "execution_count": 98
  },
  {
   "cell_type": "code",
   "outputs": [],
   "source": [],
   "metadata": {
    "collapsed": false
   },
   "id": "1bb72aedfad4b7ac"
  }
 ],
 "metadata": {
  "kernelspec": {
   "display_name": "Python 3",
   "language": "python",
   "name": "python3"
  },
  "language_info": {
   "codemirror_mode": {
    "name": "ipython",
    "version": 2
   },
   "file_extension": ".py",
   "mimetype": "text/x-python",
   "name": "python",
   "nbconvert_exporter": "python",
   "pygments_lexer": "ipython2",
   "version": "2.7.6"
  }
 },
 "nbformat": 4,
 "nbformat_minor": 5
}
