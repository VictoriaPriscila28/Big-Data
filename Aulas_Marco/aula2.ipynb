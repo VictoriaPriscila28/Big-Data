{
 "cells": [
  {
   "metadata": {},
   "cell_type": "markdown",
   "source": [
    " # Baixando o dataset\\n,\n",
    "   \n",
    " ### 1 - Instalar o módulo gdown no ambiente criado,\n",
    " ### 2 - Executar o código abaixo"
   ],
   "id": "2fc7f358fab845e8"
  },
  {
   "metadata": {
    "ExecuteTime": {
     "end_time": "2024-05-12T02:35:12.991145Z",
     "start_time": "2024-05-12T02:34:41.044661Z"
    }
   },
   "cell_type": "code",
   "source": [
    "import gdown\n",
    "import os\n",
    "\n",
    "url = 'https://drive.google.com/uc?id=1aosoxH9p2Jg3YwqtzQdC6UtWStSEc92G'\n",
    "output = 'data/dataset.csv'\n",
    "\n",
    "os.makedirs(os.path.dirname(output), exist_ok=True)\n",
    "\n",
    "gdown.download(url, output, quiet=False)"
   ],
   "id": "c0d1914a96998b48",
   "outputs": [
    {
     "name": "stderr",
     "output_type": "stream",
     "text": [
      "Downloading...\n",
      "From (original): https://drive.google.com/uc?id=1aosoxH9p2Jg3YwqtzQdC6UtWStSEc92G\n",
      "From (redirected): https://drive.google.com/uc?id=1aosoxH9p2Jg3YwqtzQdC6UtWStSEc92G&confirm=t&uuid=8a7d10d6-b850-4c58-b5b6-83a1f60ed976\n",
      "To: /home/victoria/PycharmProjects/Big-Data/Aulas_Marco/data/dataset.csv\n",
      "100%|██████████| 650M/650M [00:29<00:00, 22.1MB/s] \n"
     ]
    },
    {
     "data": {
      "text/plain": [
       "'data/dataset.csv'"
      ]
     },
     "execution_count": 2,
     "metadata": {},
     "output_type": "execute_result"
    }
   ],
   "execution_count": 2
  },
  {
   "metadata": {
    "ExecuteTime": {
     "end_time": "2024-05-12T02:44:03.905296Z",
     "start_time": "2024-05-12T02:43:53.089792Z"
    }
   },
   "cell_type": "code",
   "source": [
    "import pandas as pd\n",
    "\n",
    "data = pd.read_csv('data/dataset.csv')\n",
    "data"
   ],
   "id": "ca5c2e54fbd2bc16",
   "outputs": [
    {
     "data": {
      "text/plain": [
       "                Timestamp  From Bank    Account  To Bank  Account.1  \\\n",
       "0        2022/09/01 00:08         11  8000ECA90       11  8000ECA90   \n",
       "1        2022/09/01 00:21       3402  80021DAD0     3402  80021DAD0   \n",
       "2        2022/09/01 00:00         11  8000ECA90     1120  8006AA910   \n",
       "3        2022/09/01 00:16       3814  8006AD080     3814  8006AD080   \n",
       "4        2022/09/01 00:00         20  8006AD530       20  8006AD530   \n",
       "...                   ...        ...        ...      ...        ...   \n",
       "6924044  2022/09/10 23:39      71696  81B2518F1    71528  81C0482E1   \n",
       "6924045  2022/09/10 23:48     271241  81B567481   173457  81C0DA751   \n",
       "6924046  2022/09/10 23:50     271241  81B567481   173457  81C0DA751   \n",
       "6924047  2022/09/10 23:57     170558  81A2206B1   275798  81C1D5CA1   \n",
       "6924048  2022/09/10 23:31     170558  81A2206B1   275798  81C1D5CA1   \n",
       "\n",
       "         Amount Received Receiving Currency   Amount Paid Payment Currency  \\\n",
       "0           3.195403e+06          US Dollar  3.195403e+06        US Dollar   \n",
       "1           1.858960e+03          US Dollar  1.858960e+03        US Dollar   \n",
       "2           5.925710e+05          US Dollar  5.925710e+05        US Dollar   \n",
       "3           1.232000e+01          US Dollar  1.232000e+01        US Dollar   \n",
       "4           2.941560e+03          US Dollar  2.941560e+03        US Dollar   \n",
       "...                  ...                ...           ...              ...   \n",
       "6924044     3.346900e-02            Bitcoin  3.346900e-02          Bitcoin   \n",
       "6924045     1.313000e-03            Bitcoin  1.313000e-03          Bitcoin   \n",
       "6924046     1.305800e-02            Bitcoin  1.305800e-02          Bitcoin   \n",
       "6924047     4.145370e-01            Bitcoin  4.145370e-01          Bitcoin   \n",
       "6924048     3.427700e-02            Bitcoin  3.427700e-02          Bitcoin   \n",
       "\n",
       "        Payment Format  Is Laundering  \n",
       "0         Reinvestment              0  \n",
       "1         Reinvestment              0  \n",
       "2               Cheque              0  \n",
       "3         Reinvestment              0  \n",
       "4         Reinvestment              0  \n",
       "...                ...            ...  \n",
       "6924044        Bitcoin              0  \n",
       "6924045        Bitcoin              0  \n",
       "6924046        Bitcoin              0  \n",
       "6924047        Bitcoin              0  \n",
       "6924048        Bitcoin              0  \n",
       "\n",
       "[6924049 rows x 11 columns]"
      ],
      "text/html": [
       "<div>\n",
       "<style scoped>\n",
       "    .dataframe tbody tr th:only-of-type {\n",
       "        vertical-align: middle;\n",
       "    }\n",
       "\n",
       "    .dataframe tbody tr th {\n",
       "        vertical-align: top;\n",
       "    }\n",
       "\n",
       "    .dataframe thead th {\n",
       "        text-align: right;\n",
       "    }\n",
       "</style>\n",
       "<table border=\"1\" class=\"dataframe\">\n",
       "  <thead>\n",
       "    <tr style=\"text-align: right;\">\n",
       "      <th></th>\n",
       "      <th>Timestamp</th>\n",
       "      <th>From Bank</th>\n",
       "      <th>Account</th>\n",
       "      <th>To Bank</th>\n",
       "      <th>Account.1</th>\n",
       "      <th>Amount Received</th>\n",
       "      <th>Receiving Currency</th>\n",
       "      <th>Amount Paid</th>\n",
       "      <th>Payment Currency</th>\n",
       "      <th>Payment Format</th>\n",
       "      <th>Is Laundering</th>\n",
       "    </tr>\n",
       "  </thead>\n",
       "  <tbody>\n",
       "    <tr>\n",
       "      <th>0</th>\n",
       "      <td>2022/09/01 00:08</td>\n",
       "      <td>11</td>\n",
       "      <td>8000ECA90</td>\n",
       "      <td>11</td>\n",
       "      <td>8000ECA90</td>\n",
       "      <td>3.195403e+06</td>\n",
       "      <td>US Dollar</td>\n",
       "      <td>3.195403e+06</td>\n",
       "      <td>US Dollar</td>\n",
       "      <td>Reinvestment</td>\n",
       "      <td>0</td>\n",
       "    </tr>\n",
       "    <tr>\n",
       "      <th>1</th>\n",
       "      <td>2022/09/01 00:21</td>\n",
       "      <td>3402</td>\n",
       "      <td>80021DAD0</td>\n",
       "      <td>3402</td>\n",
       "      <td>80021DAD0</td>\n",
       "      <td>1.858960e+03</td>\n",
       "      <td>US Dollar</td>\n",
       "      <td>1.858960e+03</td>\n",
       "      <td>US Dollar</td>\n",
       "      <td>Reinvestment</td>\n",
       "      <td>0</td>\n",
       "    </tr>\n",
       "    <tr>\n",
       "      <th>2</th>\n",
       "      <td>2022/09/01 00:00</td>\n",
       "      <td>11</td>\n",
       "      <td>8000ECA90</td>\n",
       "      <td>1120</td>\n",
       "      <td>8006AA910</td>\n",
       "      <td>5.925710e+05</td>\n",
       "      <td>US Dollar</td>\n",
       "      <td>5.925710e+05</td>\n",
       "      <td>US Dollar</td>\n",
       "      <td>Cheque</td>\n",
       "      <td>0</td>\n",
       "    </tr>\n",
       "    <tr>\n",
       "      <th>3</th>\n",
       "      <td>2022/09/01 00:16</td>\n",
       "      <td>3814</td>\n",
       "      <td>8006AD080</td>\n",
       "      <td>3814</td>\n",
       "      <td>8006AD080</td>\n",
       "      <td>1.232000e+01</td>\n",
       "      <td>US Dollar</td>\n",
       "      <td>1.232000e+01</td>\n",
       "      <td>US Dollar</td>\n",
       "      <td>Reinvestment</td>\n",
       "      <td>0</td>\n",
       "    </tr>\n",
       "    <tr>\n",
       "      <th>4</th>\n",
       "      <td>2022/09/01 00:00</td>\n",
       "      <td>20</td>\n",
       "      <td>8006AD530</td>\n",
       "      <td>20</td>\n",
       "      <td>8006AD530</td>\n",
       "      <td>2.941560e+03</td>\n",
       "      <td>US Dollar</td>\n",
       "      <td>2.941560e+03</td>\n",
       "      <td>US Dollar</td>\n",
       "      <td>Reinvestment</td>\n",
       "      <td>0</td>\n",
       "    </tr>\n",
       "    <tr>\n",
       "      <th>...</th>\n",
       "      <td>...</td>\n",
       "      <td>...</td>\n",
       "      <td>...</td>\n",
       "      <td>...</td>\n",
       "      <td>...</td>\n",
       "      <td>...</td>\n",
       "      <td>...</td>\n",
       "      <td>...</td>\n",
       "      <td>...</td>\n",
       "      <td>...</td>\n",
       "      <td>...</td>\n",
       "    </tr>\n",
       "    <tr>\n",
       "      <th>6924044</th>\n",
       "      <td>2022/09/10 23:39</td>\n",
       "      <td>71696</td>\n",
       "      <td>81B2518F1</td>\n",
       "      <td>71528</td>\n",
       "      <td>81C0482E1</td>\n",
       "      <td>3.346900e-02</td>\n",
       "      <td>Bitcoin</td>\n",
       "      <td>3.346900e-02</td>\n",
       "      <td>Bitcoin</td>\n",
       "      <td>Bitcoin</td>\n",
       "      <td>0</td>\n",
       "    </tr>\n",
       "    <tr>\n",
       "      <th>6924045</th>\n",
       "      <td>2022/09/10 23:48</td>\n",
       "      <td>271241</td>\n",
       "      <td>81B567481</td>\n",
       "      <td>173457</td>\n",
       "      <td>81C0DA751</td>\n",
       "      <td>1.313000e-03</td>\n",
       "      <td>Bitcoin</td>\n",
       "      <td>1.313000e-03</td>\n",
       "      <td>Bitcoin</td>\n",
       "      <td>Bitcoin</td>\n",
       "      <td>0</td>\n",
       "    </tr>\n",
       "    <tr>\n",
       "      <th>6924046</th>\n",
       "      <td>2022/09/10 23:50</td>\n",
       "      <td>271241</td>\n",
       "      <td>81B567481</td>\n",
       "      <td>173457</td>\n",
       "      <td>81C0DA751</td>\n",
       "      <td>1.305800e-02</td>\n",
       "      <td>Bitcoin</td>\n",
       "      <td>1.305800e-02</td>\n",
       "      <td>Bitcoin</td>\n",
       "      <td>Bitcoin</td>\n",
       "      <td>0</td>\n",
       "    </tr>\n",
       "    <tr>\n",
       "      <th>6924047</th>\n",
       "      <td>2022/09/10 23:57</td>\n",
       "      <td>170558</td>\n",
       "      <td>81A2206B1</td>\n",
       "      <td>275798</td>\n",
       "      <td>81C1D5CA1</td>\n",
       "      <td>4.145370e-01</td>\n",
       "      <td>Bitcoin</td>\n",
       "      <td>4.145370e-01</td>\n",
       "      <td>Bitcoin</td>\n",
       "      <td>Bitcoin</td>\n",
       "      <td>0</td>\n",
       "    </tr>\n",
       "    <tr>\n",
       "      <th>6924048</th>\n",
       "      <td>2022/09/10 23:31</td>\n",
       "      <td>170558</td>\n",
       "      <td>81A2206B1</td>\n",
       "      <td>275798</td>\n",
       "      <td>81C1D5CA1</td>\n",
       "      <td>3.427700e-02</td>\n",
       "      <td>Bitcoin</td>\n",
       "      <td>3.427700e-02</td>\n",
       "      <td>Bitcoin</td>\n",
       "      <td>Bitcoin</td>\n",
       "      <td>0</td>\n",
       "    </tr>\n",
       "  </tbody>\n",
       "</table>\n",
       "<p>6924049 rows × 11 columns</p>\n",
       "</div>"
      ]
     },
     "execution_count": 1,
     "metadata": {},
     "output_type": "execute_result"
    }
   ],
   "execution_count": 1
  },
  {
   "metadata": {
    "ExecuteTime": {
     "end_time": "2024-05-12T02:44:18.282148Z",
     "start_time": "2024-05-12T02:44:18.272701Z"
    }
   },
   "cell_type": "code",
   "source": "data.info()",
   "id": "213c63eb01e963cd",
   "outputs": [
    {
     "name": "stdout",
     "output_type": "stream",
     "text": [
      "<class 'pandas.core.frame.DataFrame'>\n",
      "RangeIndex: 6924049 entries, 0 to 6924048\n",
      "Data columns (total 11 columns):\n",
      " #   Column              Dtype  \n",
      "---  ------              -----  \n",
      " 0   Timestamp           object \n",
      " 1   From Bank           int64  \n",
      " 2   Account             object \n",
      " 3   To Bank             int64  \n",
      " 4   Account.1           object \n",
      " 5   Amount Received     float64\n",
      " 6   Receiving Currency  object \n",
      " 7   Amount Paid         float64\n",
      " 8   Payment Currency    object \n",
      " 9   Payment Format      object \n",
      " 10  Is Laundering       int64  \n",
      "dtypes: float64(2), int64(3), object(6)\n",
      "memory usage: 581.1+ MB\n"
     ]
    }
   ],
   "execution_count": 2
  },
  {
   "metadata": {
    "ExecuteTime": {
     "end_time": "2024-05-12T02:44:25.934597Z",
     "start_time": "2024-05-12T02:44:22.976477Z"
    }
   },
   "cell_type": "code",
   "source": "print(f\"Soma de Null:\\n{data.isnull().sum()}\\n\\nSoma de NA:\\n{data.isna().sum()}\")",
   "id": "eace5798fd513252",
   "outputs": [
    {
     "name": "stdout",
     "output_type": "stream",
     "text": [
      "Soma de Null:\n",
      "Timestamp             0\n",
      "From Bank             0\n",
      "Account               0\n",
      "To Bank               0\n",
      "Account.1             0\n",
      "Amount Received       0\n",
      "Receiving Currency    0\n",
      "Amount Paid           0\n",
      "Payment Currency      0\n",
      "Payment Format        0\n",
      "Is Laundering         0\n",
      "dtype: int64\n",
      "\n",
      "Soma de NA:\n",
      "Timestamp             0\n",
      "From Bank             0\n",
      "Account               0\n",
      "To Bank               0\n",
      "Account.1             0\n",
      "Amount Received       0\n",
      "Receiving Currency    0\n",
      "Amount Paid           0\n",
      "Payment Currency      0\n",
      "Payment Format        0\n",
      "Is Laundering         0\n",
      "dtype: int64\n"
     ]
    }
   ],
   "execution_count": 3
  },
  {
   "metadata": {
    "ExecuteTime": {
     "end_time": "2024-05-12T02:44:29.536434Z",
     "start_time": "2024-05-12T02:44:29.531342Z"
    }
   },
   "cell_type": "code",
   "source": [
    "currency = data['Payment Currency']\n",
    "received = data['Amount Received']\n",
    "paid = data['Amount Paid']"
   ],
   "id": "f0bc2305ddb9cc86",
   "outputs": [],
   "execution_count": 4
  },
  {
   "metadata": {
    "ExecuteTime": {
     "end_time": "2024-05-12T02:55:20.458209Z",
     "start_time": "2024-05-12T02:55:19.994047Z"
    }
   },
   "cell_type": "code",
   "source": "paid.describe()",
   "id": "68c948910a04f209",
   "outputs": [
    {
     "data": {
      "text/plain": [
       "count    6.924049e+06\n",
       "mean     4.676036e+06\n",
       "std      1.544099e+09\n",
       "min      1.000000e-06\n",
       "25%      1.753800e+02\n",
       "50%      1.399440e+03\n",
       "75%      1.222687e+04\n",
       "max      3.644854e+12\n",
       "Name: Amount Paid, dtype: float64"
      ]
     },
     "execution_count": 5,
     "metadata": {},
     "output_type": "execute_result"
    }
   ],
   "execution_count": 5
  },
  {
   "metadata": {
    "ExecuteTime": {
     "end_time": "2024-05-12T02:55:42.807160Z",
     "start_time": "2024-05-12T02:55:42.786414Z"
    }
   },
   "cell_type": "code",
   "source": [
    "import locale\n",
    "\n",
    "# Configura o locale para o padrão brasileiro\n",
    "locale.setlocale(locale.LC_ALL, 'pt_BR.UTF-8')\n",
    "\n",
    "# Ajusta a função de formatação para limitar a duas casas decimais\n",
    "pd.options.display.float_format = lambda x: locale.format_string(\"%.2f\", x, grouping=True, monetary=True)"
   ],
   "id": "a7cb09dfd930b568",
   "outputs": [],
   "execution_count": 6
  }
 ],
 "metadata": {
  "kernelspec": {
   "display_name": "Python 3",
   "language": "python",
   "name": "python3"
  },
  "language_info": {
   "codemirror_mode": {
    "name": "ipython",
    "version": 2
   },
   "file_extension": ".py",
   "mimetype": "text/x-python",
   "name": "python",
   "nbconvert_exporter": "python",
   "pygments_lexer": "ipython2",
   "version": "2.7.6"
  }
 },
 "nbformat": 4,
 "nbformat_minor": 5
}
